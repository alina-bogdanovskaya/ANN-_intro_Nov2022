{
 "cells": [
  {
   "cell_type": "markdown",
   "metadata": {
    "id": "7YP_zYC9nRqe"
   },
   "source": [
    "1. Попробуйте изменить параметры нейронной сети работающей с датасетом imdb так, чтобы улучшить ее точность. Приложите анализ."
   ]
  },
  {
   "cell_type": "code",
   "execution_count": 36,
   "metadata": {
    "colab": {
     "base_uri": "https://localhost:8080/"
    },
    "id": "hupokLFNdM5b",
    "outputId": "9efe24a1-f686-4bd0-f2b6-a596f94705b4"
   },
   "outputs": [],
   "source": [
    "from __future__ import print_function\n",
    "\n",
    "import numpy as np\n",
    "import tensorflow as tf\n",
    "\n",
    "from keras.utils import pad_sequences, to_categorical\n",
    "from keras.models import Sequential\n",
    "from keras.layers import Dense, Embedding, Dropout, Activation\n",
    "from keras.datasets import imdb\n",
    "from tensorflow.keras.layers import LSTM, SimpleRNN, GRU\n",
    "from tensorflow.keras import regularizers\n",
    "from tensorflow.keras.callbacks import ModelCheckpoint\n",
    "\n",
    "import matplotlib.pyplot as plt"
   ]
  },
  {
   "cell_type": "code",
   "execution_count": 13,
   "metadata": {
    "colab": {
     "base_uri": "https://localhost:8080/"
    },
    "id": "IX9TpVr8gmoN",
    "outputId": "1a4c9593-aafc-4cdf-f1dd-484cc9b28921"
   },
   "outputs": [
    {
     "name": "stdout",
     "output_type": "stream",
     "text": [
      "Pad последовательности (примеров в x единицу времени)\n",
      "x_train shape: (25000, 80)\n",
      "x_test shape: (25000, 80)\n",
      "[   15   256     2     2     7  3766     2   723    36    71    43   530\n",
      "   476    26   400   317    46     7     2 12118  1029    13   104    88\n",
      "     2   381    15   297    98    32  2071    56    26   141     6   194\n",
      "  7486    18     2   226    22    21   134   476    26   480     2   144\n",
      "    30  5535    18    51    36    28   224    92    25   104     2   226\n",
      "    65    16    38  1334    88    12    16   283     2    16  4472   113\n",
      "   103    32    15    16  5345    19   178    32]\n"
     ]
    }
   ],
   "source": [
    "max_features = 20000\n",
    "\n",
    "# обрезание текстов после данного количества слов (среди top max_features наиболее используемые слова)\n",
    "maxlen = 80\n",
    "batch_size = 50\n",
    "\n",
    "(x_train, y_train), (x_test, y_test) = imdb.load_data(num_words=max_features, oov_char=2,skip_top=6)\n",
    "\n",
    "print('Pad последовательности (примеров в x единицу времени)')\n",
    "x_train_ex = pad_sequences(x_train, maxlen=maxlen)\n",
    "x_test_ex = pad_sequences(x_test, maxlen=maxlen)\n",
    "print('x_train shape:', x_train_ex.shape)\n",
    "print('x_test shape:', x_test_ex.shape)\n",
    "print(x_train_ex[0])"
   ]
  },
  {
   "cell_type": "code",
   "execution_count": 14,
   "metadata": {
    "colab": {
     "base_uri": "https://localhost:8080/"
    },
    "id": "58O11E70hA8M",
    "outputId": "18b9fdcb-a882-4d74-840c-9ea76d43ad0d"
   },
   "outputs": [
    {
     "name": "stdout",
     "output_type": "stream",
     "text": [
      "WARNING:tensorflow:Layer lstm_3 will not use cuDNN kernels since it doesn't meet the criteria. It will use a generic GPU kernel as fallback when running on GPU.\n",
      "500/500 [==============================] - 181s 358ms/step - loss: 0.4238 - accuracy: 0.7982 - val_loss: 0.3742 - val_accuracy: 0.8320\n",
      "500/500 [==============================] - 36s 73ms/step - loss: 0.3742 - accuracy: 0.8320\n",
      "Результат при тестировании: 0.37417253851890564\n",
      "Тестовая точность: 0.8319600224494934\n"
     ]
    }
   ],
   "source": [
    "model = Sequential()\n",
    "model.add(Embedding(max_features, 128)) # input_dim, output_dim\n",
    "model.add(LSTM(128, dropout=0.2, recurrent_dropout=0.2))\n",
    "model.add(Dense(1, activation='sigmoid'))\n",
    "\n",
    "# стоит попробовать использовать другие оптимайзер и другие конфигурации оптимайзеров \n",
    "model.compile(loss='binary_crossentropy',\n",
    "              optimizer='adam',\n",
    "              metrics=['accuracy'])\n",
    "\n",
    "hh = model.fit(x_train_ex, y_train,\n",
    "          batch_size=batch_size,\n",
    "          epochs=1, # увеличьте при необходимости\n",
    "          validation_data=(x_test_ex, y_test))\n",
    "score, acc = model.evaluate(x_test_ex, y_test,\n",
    "                            batch_size=batch_size)\n",
    "print('Результат при тестировании:', score)\n",
    "print('Тестовая точность:', acc)"
   ]
  },
  {
   "cell_type": "code",
   "execution_count": 95,
   "metadata": {
    "id": "R4E9gUUZnpK0"
   },
   "outputs": [],
   "source": [
    "# Попробуем прежде всего изменить параметры обрезания текста\n",
    "\n",
    "max_len_new = 160\n",
    "\n",
    "x_train_new = pad_sequences(x_train, maxlen=maxlen)\n",
    "x_test_new = pad_sequences(x_test, maxlen=maxlen)"
   ]
  },
  {
   "cell_type": "code",
   "execution_count": 96,
   "metadata": {
    "colab": {
     "base_uri": "https://localhost:8080/",
     "height": 241
    },
    "id": "YVVs3o42i80_",
    "outputId": "bd3ad7bd-528f-4d70-b973-e7b122a1116f"
   },
   "outputs": [
    {
     "name": "stdout",
     "output_type": "stream",
     "text": [
      "Epoch 1/16\n",
      "782/782 [==============================] - 17s 19ms/step - loss: 0.6623 - accuracy: 0.6059 - val_loss: 0.5965 - val_accuracy: 0.6816\n",
      "Epoch 2/16\n",
      "782/782 [==============================] - 14s 18ms/step - loss: 0.5458 - accuracy: 0.7258 - val_loss: 0.5010 - val_accuracy: 0.7549\n",
      "Epoch 3/16\n",
      "782/782 [==============================] - 14s 18ms/step - loss: 0.4699 - accuracy: 0.7779 - val_loss: 0.4510 - val_accuracy: 0.7884\n",
      "Epoch 4/16\n",
      "782/782 [==============================] - 14s 18ms/step - loss: 0.4249 - accuracy: 0.8063 - val_loss: 0.4327 - val_accuracy: 0.8007\n",
      "Epoch 5/16\n",
      "782/782 [==============================] - 14s 17ms/step - loss: 0.3975 - accuracy: 0.8216 - val_loss: 0.4062 - val_accuracy: 0.8122\n",
      "Epoch 6/16\n",
      "782/782 [==============================] - 15s 19ms/step - loss: 0.3756 - accuracy: 0.8359 - val_loss: 0.3908 - val_accuracy: 0.8230\n",
      "Epoch 7/16\n",
      "782/782 [==============================] - 14s 18ms/step - loss: 0.3590 - accuracy: 0.8424 - val_loss: 0.4096 - val_accuracy: 0.8173\n",
      "Epoch 8/16\n",
      "782/782 [==============================] - 14s 18ms/step - loss: 0.3460 - accuracy: 0.8517 - val_loss: 0.3795 - val_accuracy: 0.8293\n",
      "Epoch 9/16\n",
      "782/782 [==============================] - 14s 18ms/step - loss: 0.3299 - accuracy: 0.8601 - val_loss: 0.3844 - val_accuracy: 0.8280\n",
      "Epoch 10/16\n",
      "782/782 [==============================] - 14s 18ms/step - loss: 0.3196 - accuracy: 0.8650 - val_loss: 0.3709 - val_accuracy: 0.8359\n",
      "Epoch 11/16\n",
      "782/782 [==============================] - 14s 18ms/step - loss: 0.3097 - accuracy: 0.8683 - val_loss: 0.3704 - val_accuracy: 0.8357\n",
      "Epoch 12/16\n",
      "782/782 [==============================] - 14s 18ms/step - loss: 0.3025 - accuracy: 0.8731 - val_loss: 0.3659 - val_accuracy: 0.8366\n",
      "Epoch 13/16\n",
      "782/782 [==============================] - 14s 18ms/step - loss: 0.2934 - accuracy: 0.8793 - val_loss: 0.3640 - val_accuracy: 0.8374\n",
      "Epoch 14/16\n",
      "782/782 [==============================] - 14s 18ms/step - loss: 0.2860 - accuracy: 0.8824 - val_loss: 0.3638 - val_accuracy: 0.8386\n",
      "Epoch 15/16\n",
      "782/782 [==============================] - 15s 19ms/step - loss: 0.2782 - accuracy: 0.8836 - val_loss: 0.3765 - val_accuracy: 0.8377\n",
      "Epoch 16/16\n",
      "782/782 [==============================] - 15s 19ms/step - loss: 0.2709 - accuracy: 0.8901 - val_loss: 0.3670 - val_accuracy: 0.8405\n",
      "782/782 [==============================] - 5s 6ms/step - loss: 0.3670 - accuracy: 0.8405\n",
      "Результат при тестировании: 0.3669946789741516\n",
      "Тестовая точность: 0.8405200242996216\n"
     ]
    }
   ],
   "source": [
    "size = 32\n",
    "opt = tf.keras.optimizers.Adamax(learning_rate=0.0001, beta_1 = 0.90, beta_2 = 0.990)\n",
    "\n",
    "model_2 = Sequential()\n",
    "model_2.add(Embedding(max_features, 128))\n",
    "model_2.add(LSTM(128, dropout=0.20))#, recurrent_dropout=0.30))\n",
    "model_2.add(Dense(1, activation='sigmoid'))\n",
    "\n",
    "model_2.compile(loss='binary_crossentropy',\n",
    "              optimizer=opt,\n",
    "              metrics=['accuracy'])\n",
    "\n",
    "hh_2 = model_2.fit(x_train_new, y_train,\n",
    "          batch_size=size,\n",
    "          epochs=16, \n",
    "          validation_data=(x_test_new, y_test))\n",
    "score, acc = model_2.evaluate(x_test_new, y_test,\n",
    "                            batch_size=size)\n",
    "print('Результат при тестировании:', score)\n",
    "print('Тестовая точность:', acc)"
   ]
  },
  {
   "cell_type": "code",
   "execution_count": 97,
   "metadata": {
    "colab": {
     "base_uri": "https://localhost:8080/",
     "height": 282
    },
    "id": "NJfMJf-R_UQN",
    "outputId": "fa2cfe6c-fc9e-4337-86e2-3ee6d688c124"
   },
   "outputs": [
    {
     "data": {
      "text/plain": [
       "[<matplotlib.lines.Line2D at 0x24f67f0f610>]"
      ]
     },
     "execution_count": 97,
     "metadata": {},
     "output_type": "execute_result"
    },
    {
     "data": {
      "image/png": "[encoded data removed]",
      "text/plain": [
       "<Figure size 432x288 with 1 Axes>"
      ]
     },
     "metadata": {
      "needs_background": "light"
     },
     "output_type": "display_data"
    }
   ],
   "source": [
    "plt.plot(hh_2.history['val_loss'])\n",
    "plt.plot(hh_2.history['val_accuracy'])"
   ]
  },
  {
   "cell_type": "markdown",
   "metadata": {},
   "source": [
    "Выводы:\n",
    "\n",
    "Для ускорения обучения сети в условиях невозможности оплатить время работы GPU на Colab, пришлось отказаться от использования параметра recurrent_dropout в LSTM-слое, чтобы получить возможность обучать модель с применением оптимизированного ядра из пакета cudaNN на локальной машине. Впрочем, выглядит так, что это не повлияло на результаты.\n",
    "\n",
    "1) При использовании оптимизатора Adam увеличение количества эпох ведёт к переобучению модели и снижению точности на валидационном наборе.\n",
    "\n",
    "2) Замена оптимизатора на Adamax улучшило ситуацию с переобучением, хотя и не искоренило проблему в целом - при обучении на протяжении более чем 16 эпох переобучение вновь становится заметным.\n",
    "\n",
    "3) Увеличение длины, по которой обрезается текст в 2 раза (с 80 до 160), дало небольшой прирост в точности. Дальнейшее увеличение этого параметра не оказало никакого влияния.\n",
    "\n",
    "4) batch_size = 32 показывает лучший баланс между скоростью обучения и точностью, по сравнению с исходным значением (50). Увеличение размера батча более 64 ведёт к заметному ухудшению точности\n",
    "\n",
    "5) Прочие попытки улучшить точность, такие как добавление регуляризации, использование других оптимизаторов, подбор параметров оптимизаторов и изменение количества нейронов в полносвязном слое, результатов не дали.\n",
    "\n",
    "В целом, получить заметно более точные результаты не удалось. Наилучшая попытка представлена выше, но и её точность (около 84%) отличается от точности исходной модели в пределах погрешности от разных весов при инициализации.\n",
    "    "
   ]
  },
  {
   "cell_type": "code",
   "execution_count": null,
   "metadata": {},
   "outputs": [],
   "source": []
  }
 ],
 "metadata": {
  "accelerator": "GPU",
  "colab": {
   "provenance": []
  },
  "gpuClass": "standard",
  "kernelspec": {
   "display_name": "Python 3",
   "language": "python",
   "name": "python3"
  },
  "language_info": {
   "codemirror_mode": {
    "name": "ipython",
    "version": 3
   },
   "file_extension": ".py",
   "mimetype": "text/x-python",
   "name": "python",
   "nbconvert_exporter": "python",
   "pygments_lexer": "ipython3",
   "version": "3.8.8"
  }
 },
 "nbformat": 4,
 "nbformat_minor": 1
}
