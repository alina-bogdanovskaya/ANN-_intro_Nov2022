{
 "cells": [
  {
   "cell_type": "code",
   "execution_count": 1,
   "id": "753f07d3",
   "metadata": {},
   "outputs": [
    {
     "name": "stderr",
     "output_type": "stream",
     "text": [
      "fatal: destination path 'minGPT-TF' already exists and is not an empty directory.\n"
     ]
    }
   ],
   "source": [
    "# !git clone https://github.com/kamalkraj/minGPT-TF.git"
   ]
  },
  {
   "cell_type": "code",
   "execution_count": 1,
   "id": "d28fb317",
   "metadata": {},
   "outputs": [
    {
     "name": "stdout",
     "output_type": "stream",
     "text": [
      "Collecting fastprogress==0.2.3\n",
      "  Downloading fastprogress-0.2.3-py3-none-any.whl (12 kB)\n",
      "Installing collected packages: fastprogress\n",
      "Successfully installed fastprogress-0.2.3\n"
     ]
    }
   ],
   "source": [
    "! pip install fastprogress==0.2.3"
   ]
  },
  {
   "cell_type": "code",
   "execution_count": 2,
   "id": "17014024",
   "metadata": {},
   "outputs": [],
   "source": [
    "import os\n",
    "os.chdir('minGPT-TF')"
   ]
  },
  {
   "cell_type": "code",
   "execution_count": 3,
   "id": "e0fe8581",
   "metadata": {},
   "outputs": [],
   "source": [
    "import math\n",
    "import numpy as np\n",
    "import tensorflow as tf\n",
    "from mingpt.model import GPT, GPTConfig"
   ]
  },
  {
   "cell_type": "code",
   "execution_count": 4,
   "id": "d49a61af",
   "metadata": {},
   "outputs": [],
   "source": [
    "class CharDataset:\n",
    "\n",
    "    def __init__(self, data, block_size):\n",
    "        chars = sorted(list(set(data)))\n",
    "        data_size, vocab_size = len(data), len(chars)\n",
    "        print('data has %d characters, %d unique.' % (data_size, vocab_size))\n",
    "        \n",
    "        self.stoi = { ch:i for i,ch in enumerate(chars) }\n",
    "        self.itos = { i:ch for i,ch in enumerate(chars) }\n",
    "        self.block_size = block_size\n",
    "        self.vocab_size = vocab_size\n",
    "        self.data = data\n",
    "    \n",
    "    def __len__(self):\n",
    "        return math.ceil(len(self.data) / (self.block_size + 1))\n",
    "\n",
    "    def __iter__(self):\n",
    "        # we're actually going to \"cheat\" and pick a spot in the dataset at random\n",
    "        for _ in range(self.__len__()):\n",
    "            i = np.random.randint(0, len(self.data) - (self.block_size + 1))\n",
    "            chunk = self.data[i:i+self.block_size+1]\n",
    "            dix = [self.stoi[s] for s in chunk]\n",
    "            x = tf.convert_to_tensor(dix[:-1], dtype=tf.int32)\n",
    "            y = tf.convert_to_tensor(dix[1:], dtype=tf.int32)\n",
    "            yield x, y\n",
    "    \n",
    "    __call__ = __iter__"
   ]
  },
  {
   "cell_type": "code",
   "execution_count": 5,
   "id": "02b57f70",
   "metadata": {},
   "outputs": [],
   "source": [
    "block_size = 128 "
   ]
  },
  {
   "cell_type": "code",
   "execution_count": 6,
   "id": "63ce9c96",
   "metadata": {},
   "outputs": [
    {
     "name": "stdout",
     "output_type": "stream",
     "text": [
      "data has 716355 characters, 86 unique.\n"
     ]
    }
   ],
   "source": [
    "filename = 'Voyage.txt'\n",
    "\n",
    "text = open(filename, 'r').read()\n",
    "train_dataset_gen = CharDataset(text, block_size) "
   ]
  },
  {
   "cell_type": "code",
   "execution_count": 7,
   "id": "0ac10186",
   "metadata": {},
   "outputs": [],
   "source": [
    "train_dataset = tf.data.Dataset.from_generator(train_dataset_gen,(tf.int32,tf.int32))"
   ]
  },
  {
   "cell_type": "code",
   "execution_count": 8,
   "id": "5306050e",
   "metadata": {},
   "outputs": [],
   "source": [
    "from mingpt.model import GPT, GPTConfig\n",
    "mconf = GPTConfig(train_dataset_gen.vocab_size, train_dataset_gen.block_size,\n",
    "                  n_layer=8, n_head=8, n_embd=512)"
   ]
  },
  {
   "cell_type": "code",
   "execution_count": 9,
   "id": "f12433ec",
   "metadata": {},
   "outputs": [],
   "source": [
    "from mingpt.trainer import Trainer, TrainerConfig\n",
    "\n",
    "# initialize a trainer instance and kick off training\n",
    "tconf = TrainerConfig(max_epochs=200, batch_size=32, learning_rate=6e-4,\n",
    "                      lr_decay=True, warmup_tokens=512*20, final_tokens=200*len(train_dataset_gen)*block_size,\n",
    "                      num_workers=4)\n",
    "trainer = Trainer(GPT, mconf, train_dataset, len(train_dataset_gen), None, None, tconf)"
   ]
  },
  {
   "cell_type": "code",
   "execution_count": 10,
   "id": "fb503695",
   "metadata": {},
   "outputs": [
    {
     "data": {
      "text/html": [],
      "text/plain": [
       "<IPython.core.display.HTML object>"
      ]
     },
     "metadata": {},
     "output_type": "display_data"
    },
    {
     "name": "stdout",
     "output_type": "stream",
     "text": [
      "epoch 1: train loss 338.58279. lr 5.999641e-04\n",
      "epoch 2: train loss 295.10031. lr 5.998540e-04\n",
      "epoch 3: train loss 257.28720. lr 5.996701e-04\n",
      "epoch 4: train loss 231.68773. lr 5.994122e-04\n",
      "epoch 5: train loss 213.85141. lr 5.990804e-04\n",
      "epoch 6: train loss 200.20932. lr 5.986748e-04\n",
      "epoch 7: train loss 190.81889. lr 5.981955e-04\n",
      "epoch 8: train loss 183.01021. lr 5.976426e-04\n",
      "epoch 9: train loss 177.05498. lr 5.970162e-04\n",
      "epoch 10: train loss 172.11165. lr 5.963166e-04\n",
      "epoch 11: train loss 167.42877. lr 5.955438e-04\n",
      "epoch 12: train loss 163.84512. lr 5.946981e-04\n",
      "epoch 13: train loss 160.00409. lr 5.937797e-04\n",
      "epoch 14: train loss 156.35429. lr 5.927888e-04\n",
      "epoch 15: train loss 154.23540. lr 5.917256e-04\n",
      "epoch 16: train loss 152.00546. lr 5.905905e-04\n",
      "epoch 17: train loss 149.17911. lr 5.893836e-04\n",
      "epoch 18: train loss 146.25595. lr 5.881054e-04\n",
      "epoch 19: train loss 144.17046. lr 5.867560e-04\n",
      "epoch 20: train loss 142.38054. lr 5.853358e-04\n",
      "epoch 21: train loss 139.61748. lr 5.838453e-04\n",
      "epoch 22: train loss 137.37737. lr 5.822847e-04\n",
      "epoch 23: train loss 135.82141. lr 5.806544e-04\n",
      "epoch 24: train loss 133.64828. lr 5.789549e-04\n",
      "epoch 25: train loss 131.30428. lr 5.771866e-04\n",
      "epoch 26: train loss 128.97124. lr 5.753498e-04\n",
      "epoch 27: train loss 126.39964. lr 5.734452e-04\n",
      "epoch 28: train loss 124.35275. lr 5.714730e-04\n",
      "epoch 29: train loss 122.75526. lr 5.694338e-04\n",
      "epoch 30: train loss 120.09338. lr 5.673281e-04\n",
      "epoch 31: train loss 118.53113. lr 5.651565e-04\n",
      "epoch 32: train loss 115.79704. lr 5.629195e-04\n",
      "epoch 33: train loss 114.04474. lr 5.606175e-04\n",
      "epoch 34: train loss 111.53559. lr 5.582513e-04\n",
      "epoch 35: train loss 109.33791. lr 5.558213e-04\n",
      "epoch 36: train loss 107.21523. lr 5.533282e-04\n",
      "epoch 37: train loss 105.51045. lr 5.507726e-04\n",
      "epoch 38: train loss 103.34023. lr 5.481550e-04\n",
      "epoch 39: train loss 101.12807. lr 5.454763e-04\n",
      "epoch 40: train loss 98.78025. lr 5.427370e-04\n",
      "epoch 41: train loss 96.72789. lr 5.399378e-04\n",
      "epoch 42: train loss 95.11040. lr 5.370794e-04\n",
      "epoch 43: train loss 92.67250. lr 5.341624e-04\n",
      "epoch 44: train loss 91.29463. lr 5.311877e-04\n",
      "epoch 45: train loss 89.39741. lr 5.281559e-04\n",
      "epoch 46: train loss 87.11643. lr 5.250679e-04\n",
      "epoch 47: train loss 85.12611. lr 5.219243e-04\n",
      "epoch 48: train loss 83.55515. lr 5.187259e-04\n",
      "epoch 49: train loss 81.96750. lr 5.154735e-04\n",
      "epoch 50: train loss 79.78078. lr 5.121680e-04\n",
      "epoch 51: train loss 78.29268. lr 5.088102e-04\n",
      "epoch 52: train loss 76.97059. lr 5.054008e-04\n",
      "epoch 53: train loss 75.77831. lr 5.019407e-04\n",
      "epoch 54: train loss 73.80733. lr 4.984307e-04\n",
      "epoch 55: train loss 72.35781. lr 4.948718e-04\n",
      "epoch 56: train loss 71.06676. lr 4.912649e-04\n",
      "epoch 57: train loss 69.47959. lr 4.876107e-04\n",
      "epoch 58: train loss 68.14748. lr 4.839102e-04\n",
      "epoch 59: train loss 67.44415. lr 4.801643e-04\n",
      "epoch 60: train loss 66.42596. lr 4.763740e-04\n",
      "epoch 61: train loss 64.79337. lr 4.725402e-04\n",
      "epoch 62: train loss 63.84642. lr 4.686638e-04\n",
      "epoch 63: train loss 62.80827. lr 4.647457e-04\n",
      "epoch 64: train loss 61.58513. lr 4.607870e-04\n",
      "epoch 65: train loss 60.76071. lr 4.567886e-04\n",
      "epoch 66: train loss 59.51437. lr 4.527516e-04\n",
      "epoch 67: train loss 58.62612. lr 4.486768e-04\n",
      "epoch 68: train loss 57.84266. lr 4.445653e-04\n",
      "epoch 69: train loss 57.01999. lr 4.404182e-04\n",
      "epoch 70: train loss 56.37361. lr 4.362365e-04\n",
      "epoch 71: train loss 55.25224. lr 4.320211e-04\n",
      "epoch 72: train loss 54.82368. lr 4.277731e-04\n",
      "epoch 73: train loss 53.98966. lr 4.234936e-04\n",
      "epoch 74: train loss 53.42787. lr 4.191836e-04\n",
      "epoch 75: train loss 52.62319. lr 4.148442e-04\n",
      "epoch 76: train loss 51.88179. lr 4.104765e-04\n",
      "epoch 77: train loss 51.55790. lr 4.060815e-04\n",
      "epoch 78: train loss 50.77135. lr 4.016603e-04\n",
      "epoch 79: train loss 50.70035. lr 3.972141e-04\n",
      "epoch 80: train loss 49.75108. lr 3.927438e-04\n",
      "epoch 81: train loss 49.07437. lr 3.882507e-04\n",
      "epoch 82: train loss 48.85120. lr 3.837358e-04\n",
      "epoch 83: train loss 48.56003. lr 3.792002e-04\n",
      "epoch 84: train loss 47.99188. lr 3.746451e-04\n",
      "epoch 85: train loss 47.68431. lr 3.700716e-04\n",
      "epoch 86: train loss 46.84022. lr 3.654807e-04\n",
      "epoch 87: train loss 46.37806. lr 3.608737e-04\n",
      "epoch 88: train loss 45.97924. lr 3.562517e-04\n",
      "epoch 89: train loss 45.69234. lr 3.516158e-04\n",
      "epoch 90: train loss 45.19183. lr 3.469672e-04\n",
      "epoch 91: train loss 45.27142. lr 3.423070e-04\n",
      "epoch 92: train loss 44.86948. lr 3.376363e-04\n",
      "epoch 93: train loss 44.32407. lr 3.329564e-04\n",
      "epoch 94: train loss 44.11844. lr 3.282683e-04\n",
      "epoch 95: train loss 43.83829. lr 3.235732e-04\n",
      "epoch 96: train loss 43.39964. lr 3.188724e-04\n",
      "epoch 97: train loss 43.39840. lr 3.141669e-04\n",
      "epoch 98: train loss 43.01035. lr 3.094578e-04\n",
      "epoch 99: train loss 42.70828. lr 3.047465e-04\n",
      "epoch 100: train loss 42.44469. lr 3.000339e-04\n",
      "epoch 101: train loss 42.23566. lr 2.953214e-04\n",
      "epoch 102: train loss 41.78093. lr 2.906100e-04\n",
      "epoch 103: train loss 41.66738. lr 2.859010e-04\n",
      "epoch 104: train loss 41.28953. lr 2.811954e-04\n",
      "epoch 105: train loss 41.26965. lr 2.764944e-04\n",
      "epoch 106: train loss 40.96684. lr 2.717993e-04\n",
      "epoch 107: train loss 40.54564. lr 2.671111e-04\n",
      "epoch 108: train loss 40.55891. lr 2.624310e-04\n",
      "epoch 109: train loss 40.43985. lr 2.577602e-04\n",
      "epoch 110: train loss 39.90665. lr 2.530998e-04\n",
      "epoch 111: train loss 40.02140. lr 2.484510e-04\n",
      "epoch 112: train loss 39.75509. lr 2.438149e-04\n",
      "epoch 113: train loss 39.31136. lr 2.391927e-04\n",
      "epoch 114: train loss 39.15704. lr 2.345855e-04\n",
      "epoch 115: train loss 39.14779. lr 2.299944e-04\n",
      "epoch 116: train loss 39.07443. lr 2.254206e-04\n",
      "epoch 117: train loss 38.83117. lr 2.208653e-04\n",
      "epoch 118: train loss 38.60773. lr 2.163294e-04\n",
      "epoch 119: train loss 38.40288. lr 2.118142e-04\n",
      "epoch 120: train loss 38.29006. lr 2.073207e-04\n",
      "epoch 121: train loss 37.97375. lr 2.028501e-04\n",
      "epoch 122: train loss 37.84884. lr 1.984035e-04\n",
      "epoch 123: train loss 37.68314. lr 1.939820e-04\n",
      "epoch 124: train loss 37.59562. lr 1.895866e-04\n",
      "epoch 125: train loss 37.35471. lr 1.852185e-04\n",
      "epoch 126: train loss 37.57055. lr 1.808787e-04\n",
      "epoch 127: train loss 37.21732. lr 1.765683e-04\n",
      "epoch 128: train loss 37.27999. lr 1.722883e-04\n",
      "epoch 129: train loss 36.97395. lr 1.680399e-04\n",
      "epoch 130: train loss 36.78139. lr 1.638240e-04\n",
      "epoch 131: train loss 36.97000. lr 1.596418e-04\n",
      "epoch 132: train loss 36.45314. lr 1.554941e-04\n",
      "epoch 133: train loss 36.47035. lr 1.513821e-04\n",
      "epoch 134: train loss 36.46924. lr 1.473069e-04\n",
      "epoch 135: train loss 36.13735. lr 1.432692e-04\n",
      "epoch 136: train loss 36.10396. lr 1.392703e-04\n",
      "epoch 137: train loss 35.87732. lr 1.353110e-04\n",
      "epoch 138: train loss 35.93191. lr 1.313924e-04\n",
      "epoch 139: train loss 35.83786. lr 1.275154e-04\n",
      "epoch 140: train loss 35.76142. lr 1.236809e-04\n",
      "epoch 141: train loss 35.37466. lr 1.198899e-04\n",
      "epoch 142: train loss 35.49259. lr 1.161434e-04\n",
      "epoch 143: train loss 35.59640. lr 1.124423e-04\n",
      "epoch 144: train loss 35.32666. lr 1.087874e-04\n",
      "epoch 145: train loss 35.17159. lr 1.051798e-04\n",
      "epoch 146: train loss 34.89808. lr 1.016202e-04\n",
      "epoch 147: train loss 35.03707. lr 9.810955e-05\n",
      "epoch 148: train loss 34.84358. lr 9.464873e-05\n",
      "epoch 149: train loss 35.01044. lr 9.123859e-05\n",
      "epoch 150: train loss 34.86217. lr 8.787997e-05\n",
      "epoch 151: train loss 34.45199. lr 8.457369e-05\n",
      "epoch 152: train loss 34.55214. lr 8.132056e-05\n",
      "epoch 153: train loss 34.49952. lr 7.812141e-05\n",
      "epoch 154: train loss 34.25882. lr 7.497700e-05\n",
      "epoch 155: train loss 34.47345. lr 7.188813e-05\n",
      "epoch 156: train loss 34.29907. lr 6.885554e-05\n",
      "epoch 157: train loss 34.16276. lr 6.588001e-05\n",
      "epoch 158: train loss 34.22944. lr 6.296224e-05\n",
      "epoch 159: train loss 33.91326. lr 6.010296e-05\n",
      "epoch 160: train loss 33.87411. lr 6.000000e-05\n",
      "epoch 161: train loss 33.85270. lr 6.000000e-05\n",
      "epoch 162: train loss 33.96510. lr 6.000000e-05\n",
      "epoch 163: train loss 33.72654. lr 6.000000e-05\n",
      "epoch 164: train loss 33.66479. lr 6.000000e-05\n",
      "epoch 165: train loss 33.50402. lr 6.000000e-05\n",
      "epoch 166: train loss 33.53695. lr 6.000000e-05\n",
      "epoch 167: train loss 33.39299. lr 6.000000e-05\n",
      "epoch 168: train loss 33.56378. lr 6.000000e-05\n",
      "epoch 169: train loss 33.21928. lr 6.000000e-05\n",
      "epoch 170: train loss 33.16321. lr 6.000000e-05\n",
      "epoch 171: train loss 33.16336. lr 6.000000e-05\n",
      "epoch 172: train loss 33.15142. lr 6.000000e-05\n",
      "epoch 173: train loss 33.01907. lr 6.000000e-05\n",
      "epoch 174: train loss 32.94313. lr 6.000000e-05\n",
      "epoch 175: train loss 32.96297. lr 6.000000e-05\n",
      "epoch 176: train loss 32.84705. lr 6.000000e-05\n",
      "epoch 177: train loss 32.83080. lr 6.000000e-05\n",
      "epoch 178: train loss 32.85281. lr 6.000000e-05\n",
      "epoch 179: train loss 32.71757. lr 6.000000e-05\n",
      "epoch 180: train loss 32.70208. lr 6.000000e-05\n",
      "epoch 181: train loss 32.63685. lr 6.000000e-05\n",
      "epoch 182: train loss 32.47860. lr 6.000000e-05\n",
      "epoch 183: train loss 32.28076. lr 6.000000e-05\n",
      "epoch 184: train loss 32.24955. lr 6.000000e-05\n",
      "epoch 185: train loss 32.32031. lr 6.000000e-05\n",
      "epoch 186: train loss 32.26790. lr 6.000000e-05\n",
      "epoch 187: train loss 32.18651. lr 6.000000e-05\n",
      "epoch 188: train loss 32.13120. lr 6.000000e-05\n",
      "epoch 189: train loss 32.16070. lr 6.000000e-05\n",
      "epoch 190: train loss 32.11721. lr 6.000000e-05\n",
      "epoch 191: train loss 32.01527. lr 6.000000e-05\n",
      "epoch 192: train loss 32.04642. lr 6.000000e-05\n",
      "epoch 193: train loss 31.93421. lr 6.000000e-05\n",
      "epoch 194: train loss 31.88804. lr 6.000000e-05\n",
      "epoch 195: train loss 31.88878. lr 6.000000e-05\n",
      "epoch 196: train loss 31.89432. lr 6.000000e-05\n",
      "epoch 197: train loss 31.71732. lr 6.000000e-05\n",
      "epoch 198: train loss 31.68510. lr 6.000000e-05\n",
      "epoch 199: train loss 31.59677. lr 6.000000e-05\n",
      "epoch 200: train loss 31.62215. lr 6.000000e-05\n"
     ]
    }
   ],
   "source": [
    "trainer.train()"
   ]
  },
  {
   "cell_type": "code",
   "execution_count": 13,
   "id": "563b5144",
   "metadata": {},
   "outputs": [
    {
     "name": "stdout",
     "output_type": "stream",
     "text": [
      "You think pretty smart.\"\n",
      "    \"~  . \" \" Jay, on the snat just on the behind \"family.\"\n",
      "\"A real pro burglar Terry exclaimed. \"You son-of-a-gun.\" Hanlon said admiringly.\n",
      "   \"Son-of-a-something, anyway,\" Anita added. They all laughed.\n",
      "   Sirocco had already known the story, but she had managed to scrape together a quorum. He took the first of his surface of Chiron in the event of hostilities, and the intensive training in antiterrorist and counterguerilla operations that had been initiated. The speech reminded him of the old-time slave ships which arrived carrying messages of brotherhood and little with detachable in his voice. \"Family; it might was an interesting things to do, and ahead lay the challenge by the door; Driscoll opened the latches and swung the door outward while Colman held his breath. The alarms remained quiet into reptoin to gesture.\n",
      "\tHe glanced forward ante seconds that the Chironians were paying for it now, and the fools who had pushed it in open in the shortest time for greatest effect.\"\n",
      "\tA few seconds of silence elapsed while the Chironians considered earlier hardly offered precedent explosives directly to the advance guard, Colonel,\" General Portney instructed from the middle of the cabin.\n",
      "   \"Guard, for once of the moons-a couple on it,\" he boyed one of the screen.\n",
      "\tBernard made no reply but let his eyebrows ask the question for him.\n",
      "\tJean raised her hands in suddenly from she reason that Celia had never quite fathomed endeared Veronica to her allowing some feasible and more of the Kuan-yin to test out an antimatter drive. In fact the project is at quite an advanced stage. They're doing the same kind of thing back on Earth, aren't. Why--getting feeling the worse the news worse.\" His tone said and walked to the door. As Driscoll began to move the trouble for a Saturday night. Why are we talking like this at all? Are we letting silly rumors get to us?\" He looked at Sirocco. \"Our glass name in twenty years of her life, and he was beginning to feel a force more at the scre\n"
     ]
    }
   ],
   "source": [
    "from mingpt.utils import sample\n",
    "\n",
    "context = \"You think pretty smart\"\n",
    "x = tf.convert_to_tensor([train_dataset_gen.stoi[s] for s in context], dtype=tf.int32)[None,...]\n",
    "y = sample(trainer.model, x, 2000, temperature=0.95, sample=True, top_k=5)[0]\n",
    "completion = ''.join([train_dataset_gen.itos[int(i)] for i in y])\n",
    "print(completion)"
   ]
  },
  {
   "cell_type": "code",
   "execution_count": null,
   "id": "689c6ea5",
   "metadata": {},
   "outputs": [],
   "source": []
  }
 ],
 "metadata": {
  "kernelspec": {
   "display_name": "Python 3",
   "language": "python",
   "name": "python3"
  },
  "language_info": {
   "codemirror_mode": {
    "name": "ipython",
    "version": 3
   },
   "file_extension": ".py",
   "mimetype": "text/x-python",
   "name": "python",
   "nbconvert_exporter": "python",
   "pygments_lexer": "ipython3",
   "version": "3.8.8"
  }
 },
 "nbformat": 4,
 "nbformat_minor": 5
}
